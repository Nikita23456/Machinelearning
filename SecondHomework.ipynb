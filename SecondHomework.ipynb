{
 "cells": [
  {
   "cell_type": "markdown",
   "id": "7e17f082",
   "metadata": {},
   "source": [
    "# Подключение библиотек"
   ]
  },
  {
   "cell_type": "code",
   "execution_count": 1,
   "id": "962fe6f7",
   "metadata": {},
   "outputs": [],
   "source": [
    "import numpy as np          \n",
    "import matplotlib.pyplot as plt\n",
    "%matplotlib inline \n",
    "import pandas as pd       \n",
    "import seaborn as sns       \n",
    "import sklearn   \n",
    "from tqdm import tqdm\n",
    "from sklearn.neural_network import MLPClassifier\n",
    "from sklearn.model_selection import train_test_split\n",
    "from sklearn.metrics import accuracy_score"
   ]
  },
  {
   "cell_type": "markdown",
   "id": "0c185ca4",
   "metadata": {},
   "source": [
    "# Описание работы\n",
    "\n",
    "Удовлетворенность клиентов авиакомпании зависит от многих факторов, но по сути этот тип удовлетворенности клиентов ничем не отличается от любого другого бизнеса. Проблема заключается в том, что авиакомпании подвержены влиянию многих нормативных актов и предоставляют услугу, которая является чрезвычайно сложной, поэтому не все факторы, влияющие на удовлетворенность клиентов, полностью находятся под контролем авиакомпании. Таким образом, многие авиакомпании пытаются компенсировать разницу, предоставляя исключительное обслуживание и комфорт клиентов и посредством высококачественной презентации. Поэтому любой авиакомпании нужно разработать конкретный механизм измерения удовлетворенности пассажиров услугами, предоставленных авиакомпанией. В данной работе решается задача классификации удовлетворенности клиентов авикомпании."
   ]
  },
  {
   "cell_type": "markdown",
   "id": "e3a3734e",
   "metadata": {},
   "source": [
    "# Загрузка, чтение и обработка данных"
   ]
  },
  {
   "cell_type": "code",
   "execution_count": 2,
   "id": "bf67fc43",
   "metadata": {},
   "outputs": [
    {
     "data": {
      "text/plain": [
       "(129880, 24)"
      ]
     },
     "execution_count": 2,
     "metadata": {},
     "output_type": "execute_result"
    }
   ],
   "source": [
    "url = \"https://raw.githubusercontent.com/Nikita23456/Machinelearning/main/airline_passenger_satisfaction.csv\"\n",
    "data_raw = pd.read_csv(url)\n",
    "data_raw.shape"
   ]
  },
  {
   "cell_type": "markdown",
   "id": "95457c8a",
   "metadata": {},
   "source": [
    "Переименуем колонку \"Unnamed 0\" в \"ID\""
   ]
  },
  {
   "cell_type": "code",
   "execution_count": 3,
   "id": "fc40967e",
   "metadata": {},
   "outputs": [
    {
     "data": {
      "text/plain": [
       "Index(['ID', 'Gender', 'customer_type', 'age', 'type_of_travel',\n",
       "       'customer_class', 'flight_distance', 'inflight_wifi_service',\n",
       "       'departure_arrival_time_convenient', 'ease_of_online_booking',\n",
       "       'gate_location', 'food_and_drink', 'online_boarding', 'seat_comfort',\n",
       "       'inflight_entertainment', 'onboard_service', 'leg_room_service',\n",
       "       'baggage_handling', 'checkin_service', 'inflight_service',\n",
       "       'cleanliness', 'departure_delay_in_minutes', 'arrival_delay_in_minutes',\n",
       "       'satisfaction'],\n",
       "      dtype='object')"
      ]
     },
     "execution_count": 3,
     "metadata": {},
     "output_type": "execute_result"
    }
   ],
   "source": [
    "data_raw.rename(columns={'Unnamed: 0': 'ID'}, inplace=True)\n",
    "data_raw.columns"
   ]
  },
  {
   "cell_type": "markdown",
   "id": "33177079",
   "metadata": {},
   "source": [
    "Преобразуем к типу 'category'"
   ]
  },
  {
   "cell_type": "code",
   "execution_count": 4,
   "id": "f784fafc",
   "metadata": {},
   "outputs": [],
   "source": [
    "data_raw['Gender'] = data_raw['Gender'].astype('category')\n",
    "data_raw['customer_type'] = data_raw['customer_type'].astype('category')\n",
    "data_raw['type_of_travel'] = data_raw['type_of_travel'].astype('category')\n",
    "data_raw['customer_class'] = data_raw['customer_class'].astype('category')\n",
    "data_raw['satisfaction'] = data_raw['satisfaction'].astype('category')"
   ]
  },
  {
   "cell_type": "code",
   "execution_count": 5,
   "id": "b5e71848",
   "metadata": {},
   "outputs": [
    {
     "name": "stdout",
     "output_type": "stream",
     "text": [
      "(129880, 25)\n"
     ]
    },
    {
     "data": {
      "text/html": [
       "<div>\n",
       "<style scoped>\n",
       "    .dataframe tbody tr th:only-of-type {\n",
       "        vertical-align: middle;\n",
       "    }\n",
       "\n",
       "    .dataframe tbody tr th {\n",
       "        vertical-align: top;\n",
       "    }\n",
       "\n",
       "    .dataframe thead th {\n",
       "        text-align: right;\n",
       "    }\n",
       "</style>\n",
       "<table border=\"1\" class=\"dataframe\">\n",
       "  <thead>\n",
       "    <tr style=\"text-align: right;\">\n",
       "      <th></th>\n",
       "      <th>ID</th>\n",
       "      <th>age</th>\n",
       "      <th>flight_distance</th>\n",
       "      <th>inflight_wifi_service</th>\n",
       "      <th>departure_arrival_time_convenient</th>\n",
       "      <th>ease_of_online_booking</th>\n",
       "      <th>gate_location</th>\n",
       "      <th>food_and_drink</th>\n",
       "      <th>online_boarding</th>\n",
       "      <th>seat_comfort</th>\n",
       "      <th>...</th>\n",
       "      <th>inflight_service</th>\n",
       "      <th>cleanliness</th>\n",
       "      <th>departure_delay_in_minutes</th>\n",
       "      <th>arrival_delay_in_minutes</th>\n",
       "      <th>Gender_Male</th>\n",
       "      <th>customer_type_disloyal Customer</th>\n",
       "      <th>type_of_travel_Personal Travel</th>\n",
       "      <th>customer_class_Eco</th>\n",
       "      <th>customer_class_Eco Plus</th>\n",
       "      <th>satisfaction_satisfied</th>\n",
       "    </tr>\n",
       "  </thead>\n",
       "  <tbody>\n",
       "    <tr>\n",
       "      <th>0</th>\n",
       "      <td>0</td>\n",
       "      <td>13</td>\n",
       "      <td>460</td>\n",
       "      <td>3</td>\n",
       "      <td>4</td>\n",
       "      <td>3</td>\n",
       "      <td>1</td>\n",
       "      <td>5</td>\n",
       "      <td>3</td>\n",
       "      <td>5</td>\n",
       "      <td>...</td>\n",
       "      <td>5</td>\n",
       "      <td>5</td>\n",
       "      <td>25</td>\n",
       "      <td>18.0</td>\n",
       "      <td>1</td>\n",
       "      <td>0</td>\n",
       "      <td>1</td>\n",
       "      <td>0</td>\n",
       "      <td>1</td>\n",
       "      <td>0</td>\n",
       "    </tr>\n",
       "    <tr>\n",
       "      <th>1</th>\n",
       "      <td>1</td>\n",
       "      <td>25</td>\n",
       "      <td>235</td>\n",
       "      <td>3</td>\n",
       "      <td>2</td>\n",
       "      <td>3</td>\n",
       "      <td>3</td>\n",
       "      <td>1</td>\n",
       "      <td>3</td>\n",
       "      <td>1</td>\n",
       "      <td>...</td>\n",
       "      <td>4</td>\n",
       "      <td>1</td>\n",
       "      <td>1</td>\n",
       "      <td>6.0</td>\n",
       "      <td>1</td>\n",
       "      <td>1</td>\n",
       "      <td>0</td>\n",
       "      <td>0</td>\n",
       "      <td>0</td>\n",
       "      <td>0</td>\n",
       "    </tr>\n",
       "    <tr>\n",
       "      <th>2</th>\n",
       "      <td>2</td>\n",
       "      <td>26</td>\n",
       "      <td>1142</td>\n",
       "      <td>2</td>\n",
       "      <td>2</td>\n",
       "      <td>2</td>\n",
       "      <td>2</td>\n",
       "      <td>5</td>\n",
       "      <td>5</td>\n",
       "      <td>5</td>\n",
       "      <td>...</td>\n",
       "      <td>4</td>\n",
       "      <td>5</td>\n",
       "      <td>0</td>\n",
       "      <td>0.0</td>\n",
       "      <td>0</td>\n",
       "      <td>0</td>\n",
       "      <td>0</td>\n",
       "      <td>0</td>\n",
       "      <td>0</td>\n",
       "      <td>1</td>\n",
       "    </tr>\n",
       "    <tr>\n",
       "      <th>3</th>\n",
       "      <td>3</td>\n",
       "      <td>25</td>\n",
       "      <td>562</td>\n",
       "      <td>2</td>\n",
       "      <td>5</td>\n",
       "      <td>5</td>\n",
       "      <td>5</td>\n",
       "      <td>2</td>\n",
       "      <td>2</td>\n",
       "      <td>2</td>\n",
       "      <td>...</td>\n",
       "      <td>4</td>\n",
       "      <td>2</td>\n",
       "      <td>11</td>\n",
       "      <td>9.0</td>\n",
       "      <td>0</td>\n",
       "      <td>0</td>\n",
       "      <td>0</td>\n",
       "      <td>0</td>\n",
       "      <td>0</td>\n",
       "      <td>0</td>\n",
       "    </tr>\n",
       "    <tr>\n",
       "      <th>4</th>\n",
       "      <td>4</td>\n",
       "      <td>61</td>\n",
       "      <td>214</td>\n",
       "      <td>3</td>\n",
       "      <td>3</td>\n",
       "      <td>3</td>\n",
       "      <td>3</td>\n",
       "      <td>4</td>\n",
       "      <td>5</td>\n",
       "      <td>5</td>\n",
       "      <td>...</td>\n",
       "      <td>3</td>\n",
       "      <td>3</td>\n",
       "      <td>0</td>\n",
       "      <td>0.0</td>\n",
       "      <td>1</td>\n",
       "      <td>0</td>\n",
       "      <td>0</td>\n",
       "      <td>0</td>\n",
       "      <td>0</td>\n",
       "      <td>1</td>\n",
       "    </tr>\n",
       "  </tbody>\n",
       "</table>\n",
       "<p>5 rows × 25 columns</p>\n",
       "</div>"
      ],
      "text/plain": [
       "   ID  age  flight_distance  inflight_wifi_service  \\\n",
       "0   0   13              460                      3   \n",
       "1   1   25              235                      3   \n",
       "2   2   26             1142                      2   \n",
       "3   3   25              562                      2   \n",
       "4   4   61              214                      3   \n",
       "\n",
       "   departure_arrival_time_convenient  ease_of_online_booking  gate_location  \\\n",
       "0                                  4                       3              1   \n",
       "1                                  2                       3              3   \n",
       "2                                  2                       2              2   \n",
       "3                                  5                       5              5   \n",
       "4                                  3                       3              3   \n",
       "\n",
       "   food_and_drink  online_boarding  seat_comfort  ...  inflight_service  \\\n",
       "0               5                3             5  ...                 5   \n",
       "1               1                3             1  ...                 4   \n",
       "2               5                5             5  ...                 4   \n",
       "3               2                2             2  ...                 4   \n",
       "4               4                5             5  ...                 3   \n",
       "\n",
       "   cleanliness  departure_delay_in_minutes  arrival_delay_in_minutes  \\\n",
       "0            5                          25                      18.0   \n",
       "1            1                           1                       6.0   \n",
       "2            5                           0                       0.0   \n",
       "3            2                          11                       9.0   \n",
       "4            3                           0                       0.0   \n",
       "\n",
       "   Gender_Male  customer_type_disloyal Customer  \\\n",
       "0            1                                0   \n",
       "1            1                                1   \n",
       "2            0                                0   \n",
       "3            0                                0   \n",
       "4            1                                0   \n",
       "\n",
       "   type_of_travel_Personal Travel  customer_class_Eco  \\\n",
       "0                               1                   0   \n",
       "1                               0                   0   \n",
       "2                               0                   0   \n",
       "3                               0                   0   \n",
       "4                               0                   0   \n",
       "\n",
       "   customer_class_Eco Plus  satisfaction_satisfied  \n",
       "0                        1                       0  \n",
       "1                        0                       0  \n",
       "2                        0                       1  \n",
       "3                        0                       0  \n",
       "4                        0                       1  \n",
       "\n",
       "[5 rows x 25 columns]"
      ]
     },
     "execution_count": 5,
     "metadata": {},
     "output_type": "execute_result"
    }
   ],
   "source": [
    "data_raw = pd.get_dummies(data_raw, drop_first=True)\n",
    "print(data_raw.shape)\n",
    "data_raw.head()"
   ]
  },
  {
   "cell_type": "markdown",
   "id": "cb2789a4",
   "metadata": {},
   "source": [
    "Зная из первой лабораторной работы, что  в одном столбце (задержка прибытия) отсутствуют значения, и их число невелико(393). Однако две задержки сильно коррелированы, и действительно значение корреляции составляет 0,965. Таким образом, мы можем использовать данные о задержке отправления для вменения недостающих данных о задержке прибытия."
   ]
  },
  {
   "cell_type": "code",
   "execution_count": 6,
   "id": "ea871e24",
   "metadata": {},
   "outputs": [
    {
     "name": "stdout",
     "output_type": "stream",
     "text": [
      "ID                                   0\n",
      "age                                  0\n",
      "flight_distance                      0\n",
      "inflight_wifi_service                0\n",
      "departure_arrival_time_convenient    0\n",
      "ease_of_online_booking               0\n",
      "gate_location                        0\n",
      "food_and_drink                       0\n",
      "online_boarding                      0\n",
      "seat_comfort                         0\n",
      "inflight_entertainment               0\n",
      "onboard_service                      0\n",
      "leg_room_service                     0\n",
      "baggage_handling                     0\n",
      "checkin_service                      0\n",
      "inflight_service                     0\n",
      "cleanliness                          0\n",
      "departure_delay_in_minutes           0\n",
      "arrival_delay_in_minutes             0\n",
      "Gender_Male                          0\n",
      "customer_type_disloyal Customer      0\n",
      "type_of_travel_Personal Travel       0\n",
      "customer_class_Eco                   0\n",
      "customer_class_Eco Plus              0\n",
      "satisfaction_satisfied               0\n",
      "dtype: int64\n"
     ]
    }
   ],
   "source": [
    "data_raw['arrival_delay_in_minutes'].fillna(data_raw['departure_delay_in_minutes'], inplace = True)\n",
    "print (data_raw.isnull().sum())"
   ]
  },
  {
   "cell_type": "markdown",
   "id": "8ab8a66c",
   "metadata": {},
   "source": [
    "Перед применением алгоритмов машинного обучения количественные признаки полезно нормализовать."
   ]
  },
  {
   "cell_type": "code",
   "execution_count": 7,
   "id": "aa28d1aa",
   "metadata": {},
   "outputs": [
    {
     "data": {
      "text/html": [
       "<div>\n",
       "<style scoped>\n",
       "    .dataframe tbody tr th:only-of-type {\n",
       "        vertical-align: middle;\n",
       "    }\n",
       "\n",
       "    .dataframe tbody tr th {\n",
       "        vertical-align: top;\n",
       "    }\n",
       "\n",
       "    .dataframe thead th {\n",
       "        text-align: right;\n",
       "    }\n",
       "</style>\n",
       "<table border=\"1\" class=\"dataframe\">\n",
       "  <thead>\n",
       "    <tr style=\"text-align: right;\">\n",
       "      <th></th>\n",
       "      <th>ID</th>\n",
       "      <th>age</th>\n",
       "      <th>flight_distance</th>\n",
       "      <th>inflight_wifi_service</th>\n",
       "      <th>departure_arrival_time_convenient</th>\n",
       "      <th>ease_of_online_booking</th>\n",
       "      <th>gate_location</th>\n",
       "      <th>food_and_drink</th>\n",
       "      <th>online_boarding</th>\n",
       "      <th>seat_comfort</th>\n",
       "      <th>...</th>\n",
       "      <th>inflight_service</th>\n",
       "      <th>cleanliness</th>\n",
       "      <th>departure_delay_in_minutes</th>\n",
       "      <th>arrival_delay_in_minutes</th>\n",
       "      <th>Gender_Male</th>\n",
       "      <th>customer_type_disloyal Customer</th>\n",
       "      <th>type_of_travel_Personal Travel</th>\n",
       "      <th>customer_class_Eco</th>\n",
       "      <th>customer_class_Eco Plus</th>\n",
       "      <th>satisfaction_satisfied</th>\n",
       "    </tr>\n",
       "  </thead>\n",
       "  <tbody>\n",
       "    <tr>\n",
       "      <th>count</th>\n",
       "      <td>129880.000000</td>\n",
       "      <td>129880.000000</td>\n",
       "      <td>129880.000000</td>\n",
       "      <td>129880.000000</td>\n",
       "      <td>129880.000000</td>\n",
       "      <td>129880.000000</td>\n",
       "      <td>129880.000000</td>\n",
       "      <td>129880.000000</td>\n",
       "      <td>129880.000000</td>\n",
       "      <td>129880.000000</td>\n",
       "      <td>...</td>\n",
       "      <td>129880.000000</td>\n",
       "      <td>129880.000000</td>\n",
       "      <td>129880.000000</td>\n",
       "      <td>129880.000000</td>\n",
       "      <td>129880.000000</td>\n",
       "      <td>129880.000000</td>\n",
       "      <td>129880.000000</td>\n",
       "      <td>129880.000000</td>\n",
       "      <td>129880.000000</td>\n",
       "      <td>129880.000000</td>\n",
       "    </tr>\n",
       "    <tr>\n",
       "      <th>mean</th>\n",
       "      <td>0.500000</td>\n",
       "      <td>0.415743</td>\n",
       "      <td>0.234111</td>\n",
       "      <td>0.545739</td>\n",
       "      <td>0.611520</td>\n",
       "      <td>0.551375</td>\n",
       "      <td>0.595385</td>\n",
       "      <td>0.640955</td>\n",
       "      <td>0.650527</td>\n",
       "      <td>0.688272</td>\n",
       "      <td>...</td>\n",
       "      <td>0.728439</td>\n",
       "      <td>0.657265</td>\n",
       "      <td>0.009242</td>\n",
       "      <td>0.009571</td>\n",
       "      <td>0.492616</td>\n",
       "      <td>0.183092</td>\n",
       "      <td>0.309416</td>\n",
       "      <td>0.448945</td>\n",
       "      <td>0.072459</td>\n",
       "      <td>0.434463</td>\n",
       "    </tr>\n",
       "    <tr>\n",
       "      <th>std</th>\n",
       "      <td>0.288678</td>\n",
       "      <td>0.193838</td>\n",
       "      <td>0.201424</td>\n",
       "      <td>0.265868</td>\n",
       "      <td>0.305348</td>\n",
       "      <td>0.280348</td>\n",
       "      <td>0.255704</td>\n",
       "      <td>0.265987</td>\n",
       "      <td>0.270144</td>\n",
       "      <td>0.263858</td>\n",
       "      <td>...</td>\n",
       "      <td>0.235334</td>\n",
       "      <td>0.262736</td>\n",
       "      <td>0.023914</td>\n",
       "      <td>0.024368</td>\n",
       "      <td>0.499947</td>\n",
       "      <td>0.386743</td>\n",
       "      <td>0.462255</td>\n",
       "      <td>0.497388</td>\n",
       "      <td>0.259248</td>\n",
       "      <td>0.495688</td>\n",
       "    </tr>\n",
       "    <tr>\n",
       "      <th>min</th>\n",
       "      <td>0.000000</td>\n",
       "      <td>0.000000</td>\n",
       "      <td>0.000000</td>\n",
       "      <td>0.000000</td>\n",
       "      <td>0.000000</td>\n",
       "      <td>0.000000</td>\n",
       "      <td>0.000000</td>\n",
       "      <td>0.000000</td>\n",
       "      <td>0.000000</td>\n",
       "      <td>0.000000</td>\n",
       "      <td>...</td>\n",
       "      <td>0.000000</td>\n",
       "      <td>0.000000</td>\n",
       "      <td>0.000000</td>\n",
       "      <td>0.000000</td>\n",
       "      <td>0.000000</td>\n",
       "      <td>0.000000</td>\n",
       "      <td>0.000000</td>\n",
       "      <td>0.000000</td>\n",
       "      <td>0.000000</td>\n",
       "      <td>0.000000</td>\n",
       "    </tr>\n",
       "    <tr>\n",
       "      <th>25%</th>\n",
       "      <td>0.250000</td>\n",
       "      <td>0.256410</td>\n",
       "      <td>0.077342</td>\n",
       "      <td>0.400000</td>\n",
       "      <td>0.400000</td>\n",
       "      <td>0.400000</td>\n",
       "      <td>0.400000</td>\n",
       "      <td>0.400000</td>\n",
       "      <td>0.400000</td>\n",
       "      <td>0.400000</td>\n",
       "      <td>...</td>\n",
       "      <td>0.600000</td>\n",
       "      <td>0.400000</td>\n",
       "      <td>0.000000</td>\n",
       "      <td>0.000000</td>\n",
       "      <td>0.000000</td>\n",
       "      <td>0.000000</td>\n",
       "      <td>0.000000</td>\n",
       "      <td>0.000000</td>\n",
       "      <td>0.000000</td>\n",
       "      <td>0.000000</td>\n",
       "    </tr>\n",
       "    <tr>\n",
       "      <th>50%</th>\n",
       "      <td>0.500000</td>\n",
       "      <td>0.423077</td>\n",
       "      <td>0.164176</td>\n",
       "      <td>0.600000</td>\n",
       "      <td>0.600000</td>\n",
       "      <td>0.600000</td>\n",
       "      <td>0.600000</td>\n",
       "      <td>0.600000</td>\n",
       "      <td>0.600000</td>\n",
       "      <td>0.800000</td>\n",
       "      <td>...</td>\n",
       "      <td>0.800000</td>\n",
       "      <td>0.600000</td>\n",
       "      <td>0.000000</td>\n",
       "      <td>0.000000</td>\n",
       "      <td>0.000000</td>\n",
       "      <td>0.000000</td>\n",
       "      <td>0.000000</td>\n",
       "      <td>0.000000</td>\n",
       "      <td>0.000000</td>\n",
       "      <td>0.000000</td>\n",
       "    </tr>\n",
       "    <tr>\n",
       "      <th>75%</th>\n",
       "      <td>0.750000</td>\n",
       "      <td>0.564103</td>\n",
       "      <td>0.345921</td>\n",
       "      <td>0.800000</td>\n",
       "      <td>0.800000</td>\n",
       "      <td>0.800000</td>\n",
       "      <td>0.800000</td>\n",
       "      <td>0.800000</td>\n",
       "      <td>0.800000</td>\n",
       "      <td>1.000000</td>\n",
       "      <td>...</td>\n",
       "      <td>1.000000</td>\n",
       "      <td>0.800000</td>\n",
       "      <td>0.007538</td>\n",
       "      <td>0.008207</td>\n",
       "      <td>1.000000</td>\n",
       "      <td>0.000000</td>\n",
       "      <td>1.000000</td>\n",
       "      <td>1.000000</td>\n",
       "      <td>0.000000</td>\n",
       "      <td>1.000000</td>\n",
       "    </tr>\n",
       "    <tr>\n",
       "      <th>max</th>\n",
       "      <td>1.000000</td>\n",
       "      <td>1.000000</td>\n",
       "      <td>1.000000</td>\n",
       "      <td>1.000000</td>\n",
       "      <td>1.000000</td>\n",
       "      <td>1.000000</td>\n",
       "      <td>1.000000</td>\n",
       "      <td>1.000000</td>\n",
       "      <td>1.000000</td>\n",
       "      <td>1.000000</td>\n",
       "      <td>...</td>\n",
       "      <td>1.000000</td>\n",
       "      <td>1.000000</td>\n",
       "      <td>1.000000</td>\n",
       "      <td>1.000000</td>\n",
       "      <td>1.000000</td>\n",
       "      <td>1.000000</td>\n",
       "      <td>1.000000</td>\n",
       "      <td>1.000000</td>\n",
       "      <td>1.000000</td>\n",
       "      <td>1.000000</td>\n",
       "    </tr>\n",
       "  </tbody>\n",
       "</table>\n",
       "<p>8 rows × 25 columns</p>\n",
       "</div>"
      ],
      "text/plain": [
       "                  ID            age  flight_distance  inflight_wifi_service  \\\n",
       "count  129880.000000  129880.000000    129880.000000          129880.000000   \n",
       "mean        0.500000       0.415743         0.234111               0.545739   \n",
       "std         0.288678       0.193838         0.201424               0.265868   \n",
       "min         0.000000       0.000000         0.000000               0.000000   \n",
       "25%         0.250000       0.256410         0.077342               0.400000   \n",
       "50%         0.500000       0.423077         0.164176               0.600000   \n",
       "75%         0.750000       0.564103         0.345921               0.800000   \n",
       "max         1.000000       1.000000         1.000000               1.000000   \n",
       "\n",
       "       departure_arrival_time_convenient  ease_of_online_booking  \\\n",
       "count                      129880.000000           129880.000000   \n",
       "mean                            0.611520                0.551375   \n",
       "std                             0.305348                0.280348   \n",
       "min                             0.000000                0.000000   \n",
       "25%                             0.400000                0.400000   \n",
       "50%                             0.600000                0.600000   \n",
       "75%                             0.800000                0.800000   \n",
       "max                             1.000000                1.000000   \n",
       "\n",
       "       gate_location  food_and_drink  online_boarding   seat_comfort  ...  \\\n",
       "count  129880.000000   129880.000000    129880.000000  129880.000000  ...   \n",
       "mean        0.595385        0.640955         0.650527       0.688272  ...   \n",
       "std         0.255704        0.265987         0.270144       0.263858  ...   \n",
       "min         0.000000        0.000000         0.000000       0.000000  ...   \n",
       "25%         0.400000        0.400000         0.400000       0.400000  ...   \n",
       "50%         0.600000        0.600000         0.600000       0.800000  ...   \n",
       "75%         0.800000        0.800000         0.800000       1.000000  ...   \n",
       "max         1.000000        1.000000         1.000000       1.000000  ...   \n",
       "\n",
       "       inflight_service    cleanliness  departure_delay_in_minutes  \\\n",
       "count     129880.000000  129880.000000               129880.000000   \n",
       "mean           0.728439       0.657265                    0.009242   \n",
       "std            0.235334       0.262736                    0.023914   \n",
       "min            0.000000       0.000000                    0.000000   \n",
       "25%            0.600000       0.400000                    0.000000   \n",
       "50%            0.800000       0.600000                    0.000000   \n",
       "75%            1.000000       0.800000                    0.007538   \n",
       "max            1.000000       1.000000                    1.000000   \n",
       "\n",
       "       arrival_delay_in_minutes    Gender_Male  \\\n",
       "count             129880.000000  129880.000000   \n",
       "mean                   0.009571       0.492616   \n",
       "std                    0.024368       0.499947   \n",
       "min                    0.000000       0.000000   \n",
       "25%                    0.000000       0.000000   \n",
       "50%                    0.000000       0.000000   \n",
       "75%                    0.008207       1.000000   \n",
       "max                    1.000000       1.000000   \n",
       "\n",
       "       customer_type_disloyal Customer  type_of_travel_Personal Travel  \\\n",
       "count                    129880.000000                   129880.000000   \n",
       "mean                          0.183092                        0.309416   \n",
       "std                           0.386743                        0.462255   \n",
       "min                           0.000000                        0.000000   \n",
       "25%                           0.000000                        0.000000   \n",
       "50%                           0.000000                        0.000000   \n",
       "75%                           0.000000                        1.000000   \n",
       "max                           1.000000                        1.000000   \n",
       "\n",
       "       customer_class_Eco  customer_class_Eco Plus  satisfaction_satisfied  \n",
       "count       129880.000000            129880.000000           129880.000000  \n",
       "mean             0.448945                 0.072459                0.434463  \n",
       "std              0.497388                 0.259248                0.495688  \n",
       "min              0.000000                 0.000000                0.000000  \n",
       "25%              0.000000                 0.000000                0.000000  \n",
       "50%              0.000000                 0.000000                0.000000  \n",
       "75%              1.000000                 0.000000                1.000000  \n",
       "max              1.000000                 1.000000                1.000000  \n",
       "\n",
       "[8 rows x 25 columns]"
      ]
     },
     "execution_count": 7,
     "metadata": {},
     "output_type": "execute_result"
    }
   ],
   "source": [
    "data_normal = (data_raw - data_raw.min(axis=0)) / (data_raw.max(axis=0) - data_raw.min(axis=0))\n",
    "data_normal.describe()"
   ]
  },
  {
   "cell_type": "markdown",
   "id": "8554b9b2",
   "metadata": {},
   "source": [
    "# Разбиение датасета на обучающую и тестовую выборки\n"
   ]
  },
  {
   "cell_type": "code",
   "execution_count": 8,
   "id": "a70907c8",
   "metadata": {},
   "outputs": [],
   "source": [
    "X = data_normal.drop (['ID', 'satisfaction_satisfied'], axis=1) \n",
    "y = data_raw['satisfaction_satisfied']"
   ]
  },
  {
   "cell_type": "markdown",
   "id": "1a06c98c",
   "metadata": {},
   "source": [
    "Разобьем данные на обучающую и тестовую выборки в пропорции 2:1 (66% - обучающая выборка, 33% - тестовая):"
   ]
  },
  {
   "cell_type": "code",
   "execution_count": 9,
   "id": "8ec83e2f",
   "metadata": {},
   "outputs": [],
   "source": [
    "from sklearn.model_selection import train_test_split\n",
    "X_train, X_test, y_train, y_test = train_test_split(X, y, test_size = 0.33, random_state = 42)"
   ]
  },
  {
   "cell_type": "code",
   "execution_count": 10,
   "id": "e1854a12",
   "metadata": {},
   "outputs": [],
   "source": [
    "N_train, _ = X_train.shape \n",
    "N_test,  _ = X_test.shape"
   ]
  },
  {
   "cell_type": "code",
   "execution_count": 11,
   "id": "bcc94735",
   "metadata": {},
   "outputs": [
    {
     "data": {
      "text/plain": [
       "(87019, 42861)"
      ]
     },
     "execution_count": 11,
     "metadata": {},
     "output_type": "execute_result"
    }
   ],
   "source": [
    "N_train, N_test"
   ]
  },
  {
   "cell_type": "markdown",
   "id": "3dad68b2",
   "metadata": {},
   "source": [
    "# Создание модели и ее обучение"
   ]
  },
  {
   "cell_type": "code",
   "execution_count": 12,
   "id": "c1d02ce4",
   "metadata": {},
   "outputs": [],
   "source": [
    "from sklearn.neural_network import MLPClassifier\n",
    "mlp_model = MLPClassifier(hidden_layer_sizes = (100,),\n",
    "                          solver = 'adam', \n",
    "                          activation = 'relu',\n",
    "                          max_iter=1000,\n",
    "                          random_state = 30)\n"
   ]
  },
  {
   "cell_type": "code",
   "execution_count": 13,
   "id": "7cc07e08",
   "metadata": {},
   "outputs": [
    {
     "name": "stdout",
     "output_type": "stream",
     "text": [
      "Wall time: 2min 32s\n"
     ]
    },
    {
     "data": {
      "text/plain": [
       "MLPClassifier(max_iter=1000, random_state=30)"
      ]
     },
     "execution_count": 13,
     "metadata": {},
     "output_type": "execute_result"
    }
   ],
   "source": [
    "%%time\n",
    "mlp_model.fit(X_train, y_train)"
   ]
  },
  {
   "cell_type": "markdown",
   "id": "ddea4582",
   "metadata": {},
   "source": [
    "Проверка качества классификатора:"
   ]
  },
  {
   "cell_type": "code",
   "execution_count": 14,
   "id": "1d2bfe25",
   "metadata": {},
   "outputs": [],
   "source": [
    "y_train_pred = mlp_model.predict(X_train)\n",
    "y_test_pred = mlp_model.predict(X_test)"
   ]
  },
  {
   "cell_type": "markdown",
   "id": "db9ea5a5",
   "metadata": {},
   "source": [
    "Проверка точности на обучающей и тестовой выборке:"
   ]
  },
  {
   "cell_type": "code",
   "execution_count": 15,
   "id": "e8ea40ac",
   "metadata": {},
   "outputs": [
    {
     "name": "stdout",
     "output_type": "stream",
     "text": [
      "TRAIN: 96.52% TEST: 96.02%\n"
     ]
    }
   ],
   "source": [
    "print(\"TRAIN: {:.2f}% TEST: {:.2f}%\".format(accuracy_score(y_train, y_train_pred)\n",
    "      * 100, accuracy_score(y_test, y_test_pred) * 100))"
   ]
  },
  {
   "cell_type": "markdown",
   "id": "d12a4b62",
   "metadata": {},
   "source": [
    "Так как точность на тренировочной выборке не сильно отличается от  тестовой, то мы не наблюдаем переобучения и недообучения."
   ]
  },
  {
   "cell_type": "markdown",
   "id": "f0f84a7b",
   "metadata": {},
   "source": [
    "# Подбор числа нейронов в однослойном классификаторе\n",
    "В качестве алгоритма оптимизации выберем алгоритм Adam, в качестве функции активации выберем Relu, в качетве метрики оценки классификатора возьмем accuracy_score."
   ]
  },
  {
   "cell_type": "code",
   "execution_count": 16,
   "id": "1fa1263d",
   "metadata": {},
   "outputs": [
    {
     "name": "stderr",
     "output_type": "stream",
     "text": [
      "100%|██████████| 50/50 [1:12:11<00:00, 86.63s/it] \n"
     ]
    }
   ],
   "source": [
    "hidden_layer_size = np.linspace(1, 50, 50)\n",
    "hidden_layer_size = hidden_layer_size.astype(int)\n",
    "test_err, train_err = [], []\n",
    "train_acc, test_acc = [], []\n",
    "\n",
    "for size in tqdm(hidden_layer_size):\n",
    "    model = MLPClassifier(hidden_layer_sizes=(size,), \n",
    "                          solver='adam', activation='relu', max_iter=1000, random_state=13)\n",
    "    model.fit(X_train, y_train)\n",
    "\n",
    "    y_train_pred = model.predict(X_train)\n",
    "    y_test_pred = model.predict(X_test)\n",
    "    \n",
    "    train_err.append(np.mean(y_train != y_train_pred))\n",
    "    test_err.append(np.mean(y_test != y_test_pred))\n",
    "    \n",
    "    train_acc.append(accuracy_score(y_train, y_train_pred))\n",
    "    test_acc.append(accuracy_score(y_test, y_test_pred))"
   ]
  },
  {
   "cell_type": "code",
   "execution_count": 17,
   "id": "69cfb670",
   "metadata": {},
   "outputs": [
    {
     "name": "stdout",
     "output_type": "stream",
     "text": [
      "Train: минимальное значение ошибки = 0.038704191038738664, число нейронов = 48\n",
      "Test: минимальное значение ошибки = 0.04185623293903549, число нейронов = 48\n"
     ]
    },
    {
     "data": {
      "image/png": "[encoded data removed]",
      "text/plain": [
       "<Figure size 432x288 with 1 Axes>"
      ]
     },
     "metadata": {
      "needs_background": "light"
     },
     "output_type": "display_data"
    }
   ],
   "source": [
    "plt.plot(hidden_layer_size, train_err, 'b-o', label = 'train')\n",
    "plt.plot(hidden_layer_size, test_err, 'r-o', label = 'test')\n",
    "plt.xlim([np.min(hidden_layer_size), np.max(hidden_layer_size)])\n",
    "plt.title('Error is as a function of hidden_layer_size')\n",
    "plt.xlabel('hidden_layer_size')\n",
    "plt.ylabel('error')\n",
    "plt.legend()\n",
    "\n",
    "print(f\"Train: минимальное значение ошибки = {np.min(train_err)}, число нейронов = {hidden_layer_size[np.argmin(train_err)]}\")\n",
    "print(f\"Test: минимальное значение ошибки = {np.min(test_err)}, число нейронов = {hidden_layer_size[np.argmin(test_err)]}\")"
   ]
  },
  {
   "cell_type": "code",
   "execution_count": 18,
   "id": "dc3ef155",
   "metadata": {},
   "outputs": [
    {
     "name": "stdout",
     "output_type": "stream",
     "text": [
      "Train: максимальное значение accuracy = 0.9612958089612613, число нейронов = 48\n",
      "Test: максимальное значение accuracy = 0.9581437670609645, число нейронов = 48\n"
     ]
    },
    {
     "data": {
      "image/png": "[encoded data removed]",
      "text/plain": [
       "<Figure size 432x288 with 1 Axes>"
      ]
     },
     "metadata": {
      "needs_background": "light"
     },
     "output_type": "display_data"
    }
   ],
   "source": [
    "plt.plot(hidden_layer_size, train_acc, 'r-o', label = 'train')\n",
    "plt.plot(hidden_layer_size, test_acc, 'b-o', label = 'test')\n",
    "plt.xlim([np.min(hidden_layer_size), np.max(hidden_layer_size)])\n",
    "plt.title('Accuracy is a function of hidden_layer_size')\n",
    "plt.xlabel('hidden_layer_size')\n",
    "plt.ylabel('Accuracy')\n",
    "plt.legend()\n",
    "\n",
    "print(f\"Train: максимальное значение accuracy = {np.max(train_acc)}, число нейронов = {hidden_layer_size[np.argmax(train_acc)]}\")\n",
    "print(f\"Test: максимальное значение accuracy = {np.max(test_acc)}, число нейронов = {hidden_layer_size[np.argmax(test_acc)]}\")"
   ]
  },
  {
   "cell_type": "markdown",
   "id": "e0806f4b",
   "metadata": {},
   "source": [
    "# Подбор числа нейронов в двухслойном классификаторе"
   ]
  },
  {
   "cell_type": "code",
   "execution_count": 19,
   "id": "3dc58cb0",
   "metadata": {},
   "outputs": [
    {
     "name": "stderr",
     "output_type": "stream",
     "text": [
      "10it [3:04:48, 1108.88s/it]\n"
     ]
    }
   ],
   "source": [
    "n = 10\n",
    "sizes = np.linspace(1, 50, n).astype(int)\n",
    "test_err = np.zeros((n, n))\n",
    "train_err = np.zeros((n, n))\n",
    "train_acc = np.zeros((n, n))\n",
    "test_acc = np.zeros((n, n))\n",
    "\n",
    "for i, size_1 in tqdm(enumerate(sizes)):\n",
    "    for j, size_2 in enumerate(sizes):\n",
    "        model = MLPClassifier(hidden_layer_sizes=(size_1, size_2, ), \n",
    "                              solver='adam', activation='relu', max_iter=1000, random_state=13)\n",
    "        model.fit(X_train, y_train)\n",
    "\n",
    "        y_train_pred = model.predict(X_train)\n",
    "        y_test_pred = model.predict(X_test)\n",
    "\n",
    "        train_err[i][j] = np.mean(y_train != y_train_pred)\n",
    "        test_err[i][j] = np.mean(y_test != y_test_pred)\n",
    "\n",
    "        train_acc[i][j] = accuracy_score(y_train, y_train_pred)\n",
    "        test_acc[i][j] = accuracy_score(y_test, y_test_pred)"
   ]
  },
  {
   "cell_type": "code",
   "execution_count": 20,
   "id": "7132b7d9",
   "metadata": {},
   "outputs": [
    {
     "data": {
      "image/png": "[encoded data removed]",
      "text/plain": [
       "<Figure size 432x288 with 3 Axes>"
      ]
     },
     "metadata": {
      "needs_background": "light"
     },
     "output_type": "display_data"
    }
   ],
   "source": [
    " plt.subplot(121)\n",
    "plt.title(\"Train error\")\n",
    "plt.imshow(train_err)\n",
    "plt.xticks(np.arange(n), np.arange(1, 50, 50 / n))\n",
    "plt.yticks(np.arange(n), np.arange(1, 50, 50 / n))\n",
    "\n",
    "plt.subplot(122)\n",
    "plt.title(\"Test error\")\n",
    "plt.imshow(test_err)\n",
    "plt.xticks(np.arange(n), np.arange(1, 50, 50 / n))\n",
    "plt.yticks(np.arange(n), np.arange(1, 50, 50 / n))\n",
    "\n",
    "cax = plt.axes([0.96, 0.15, 0.02, 0.7])\n",
    "plt.colorbar(cax=cax)\n",
    "\n",
    "train_min_loss = np.where(train_err == np.min(train_err))\n",
    "test_min_loss = np.where(test_err == np.min(test_err))\n",
    "\n",
    "train_min_loss_sizes = [train_min_loss[0][0] * 5, train_min_loss[1][0] * 5]\n",
    "test_min_loss_sizes = [test_min_loss[0][0] * 5, test_min_loss[1][0] * 5]"
   ]
  },
  {
   "cell_type": "code",
   "execution_count": 21,
   "id": "8361a192",
   "metadata": {},
   "outputs": [
    {
     "name": "stdout",
     "output_type": "stream",
     "text": [
      "Train: Min error=0.03216538916788288, number of neurons=45,40\n",
      "Test: error=0.038869835048178994, number of neurons=45,40\n",
      "\n",
      "Test: Min error=0.038869835048178994, number of neurons=45,40\n",
      "Train: error=0.03216538916788288, number of neurons=45,40\n",
      "\n"
     ]
    }
   ],
   "source": [
    "print(\"Train: Min error={0}, number of neurons={1},{2}\".format(np.min(train_err), train_min_loss_sizes[0], train_min_loss_sizes[1]))\n",
    "print(\"Test: error={0}, number of neurons={1},{2}\\n\".format(test_err[train_min_loss][0], train_min_loss_sizes[0], train_min_loss_sizes[1]))\n",
    "print(\"Test: Min error={0}, number of neurons={1},{2}\".format(np.min(test_err), test_min_loss_sizes[0], test_min_loss_sizes[1]))\n",
    "print(\"Train: error={0}, number of neurons={1},{2}\\n\".format(train_err[test_min_loss][0], test_min_loss_sizes[0], test_min_loss_sizes[1]))"
   ]
  },
  {
   "cell_type": "code",
   "execution_count": 22,
   "id": "1a785f2e",
   "metadata": {},
   "outputs": [
    {
     "data": {
      "image/png": "[encoded data removed]",
      "text/plain": [
       "<Figure size 432x288 with 3 Axes>"
      ]
     },
     "metadata": {
      "needs_background": "light"
     },
     "output_type": "display_data"
    }
   ],
   "source": [
    "plt.subplot(121)\n",
    "plt.title(\"Train accuracy\")\n",
    "plt.imshow(train_acc)\n",
    "plt.xticks(np.arange(n), np.arange(1, 50, 50 / n))\n",
    "plt.yticks(np.arange(n), np.arange(1, 50, 50 / n))\n",
    "\n",
    "plt.subplot(122)\n",
    "plt.title(\"Test accuracy\")\n",
    "plt.imshow(test_acc)\n",
    "plt.xticks(np.arange(n), np.arange(1, 50, 50 / n))\n",
    "plt.yticks(np.arange(n), np.arange(1, 50, 50 / n))\n",
    "\n",
    "cax = plt.axes([0.95, 0.15, 0.02, 0.7])\n",
    "plt.colorbar(cax=cax)\n",
    "\n",
    "train_max_acc = np.where(train_acc == np.max(train_acc))\n",
    "test_max_acc = np.where(test_acc == np.max(test_acc))\n",
    "\n",
    "train_max_acc_sizes = [train_max_acc[0][0] * 5, train_max_acc[1][0] * 5]\n",
    "test_max_acc_sizes = [test_max_acc[0][0] * 5, test_max_acc[1][0] * 5]"
   ]
  },
  {
   "cell_type": "code",
   "execution_count": 23,
   "id": "e445a77b",
   "metadata": {},
   "outputs": [
    {
     "name": "stdout",
     "output_type": "stream",
     "text": [
      "Train: Max accuracy=0.9678346108321171, number of neurons=45,40\n",
      "Test: accuracy=0.961130164951821, number of neurons=45,40\n",
      "\n",
      "Test: Max accuracy=0.961130164951821, number of neurons=45,40\n",
      "Train: accuracy=0.9678346108321171, number of neurons=45,40\n",
      "\n"
     ]
    }
   ],
   "source": [
    "print(\"Train: Max accuracy={0}, number of neurons={1},{2}\".format(np.max(train_acc), train_max_acc_sizes[0], train_max_acc_sizes[1]))\n",
    "print(\"Test: accuracy={0}, number of neurons={1},{2}\\n\".format(test_acc[train_max_acc][0], train_max_acc_sizes[0], train_max_acc_sizes[1]))\n",
    "print(\"Test: Max accuracy={0}, number of neurons={1},{2}\".format(np.max(test_acc), test_max_acc_sizes[0], test_max_acc_sizes[1]))\n",
    "print(\"Train: accuracy={0}, number of neurons={1},{2}\\n\".format(train_acc[test_max_acc][0], test_max_acc_sizes[0], test_max_acc_sizes[1]))"
   ]
  },
  {
   "cell_type": "markdown",
   "id": "6d7bdf47",
   "metadata": {},
   "source": [
    "# Подбор параметра регуляризации"
   ]
  },
  {
   "cell_type": "markdown",
   "id": "9298fefe",
   "metadata": {},
   "source": [
    "Лучшие показатели подемонстрировала сеть из 2х слоев, при количесте нейронов (45,40).Будем подбирать параметры alpha для сети из 2-ух слоёв."
   ]
  },
  {
   "cell_type": "code",
   "execution_count": 24,
   "id": "eb86cd9a",
   "metadata": {},
   "outputs": [
    {
     "name": "stderr",
     "output_type": "stream",
     "text": [
      "100%|██████████| 50/50 [1:08:52<00:00, 82.64s/it] \n"
     ]
    }
   ],
   "source": [
    "alphas = np.logspace(-5, 5, 50)\n",
    "test_err, train_err = [], []\n",
    "train_acc, test_acc = [], []\n",
    "\n",
    "\n",
    "for alpha in tqdm(alphas):\n",
    "    mlp_model = MLPClassifier(alpha = alpha, hidden_layer_sizes = (45,40,), \n",
    "                              solver='adam', activation='relu', max_iter=1000, random_state=13)\n",
    "    \n",
    "    mlp_model.fit(X_train, y_train)\n",
    "\n",
    "    y_train_pred = mlp_model.predict(X_train)\n",
    "    y_test_pred = mlp_model.predict(X_test)\n",
    "    \n",
    "    train_err.append(np.mean(y_train != y_train_pred))\n",
    "    test_err.append(np.mean(y_test != y_test_pred))\n",
    "    \n",
    "    train_acc.append(accuracy_score(y_train, y_train_pred))\n",
    "    test_acc.append(accuracy_score(y_test, y_test_pred))"
   ]
  },
  {
   "cell_type": "code",
   "execution_count": 25,
   "id": "102e360d",
   "metadata": {},
   "outputs": [
    {
     "data": {
      "text/plain": [
       "<matplotlib.legend.Legend at 0x29a27dd4ac0>"
      ]
     },
     "execution_count": 25,
     "metadata": {},
     "output_type": "execute_result"
    },
    {
     "data": {
      "image/png": "[encoded data removed]",
      "text/plain": [
       "<Figure size 432x288 with 1 Axes>"
      ]
     },
     "metadata": {
      "needs_background": "light"
     },
     "output_type": "display_data"
    }
   ],
   "source": [
    "plt.semilogx(alphas, train_err, 'b-o', label = 'train')\n",
    "plt.semilogx(alphas, test_err, 'r-o', label = 'test')\n",
    "plt.xlim([np.min(alphas), np.max(alphas)])\n",
    "plt.title('Error is as a function of alpha')\n",
    "plt.xlabel('alpha')\n",
    "plt.ylabel('error')\n",
    "plt.legend()"
   ]
  },
  {
   "cell_type": "code",
   "execution_count": 26,
   "id": "097bc062",
   "metadata": {},
   "outputs": [
    {
     "data": {
      "text/plain": [
       "<matplotlib.legend.Legend at 0x29a26e69340>"
      ]
     },
     "execution_count": 26,
     "metadata": {},
     "output_type": "execute_result"
    },
    {
     "data": {
      "image/png": "[encoded data removed]",
      "text/plain": [
       "<Figure size 432x288 with 1 Axes>"
      ]
     },
     "metadata": {
      "needs_background": "light"
     },
     "output_type": "display_data"
    }
   ],
   "source": [
    "plt.semilogx(alphas, train_acc, 'b-o', label = 'train')\n",
    "plt.semilogx(alphas, test_acc, 'r-o', label = 'test')\n",
    "plt.xlim([np.min(alphas), np.max(alphas)])\n",
    "plt.title('Accuracy is as a function of alpha')\n",
    "plt.xlabel('alpha')\n",
    "plt.ylabel('error')\n",
    "plt.legend()"
   ]
  },
  {
   "cell_type": "markdown",
   "id": "a8fb5a29",
   "metadata": {},
   "source": [
    "# Выводы"
   ]
  },
  {
   "cell_type": "markdown",
   "id": "6403b4ba",
   "metadata": {},
   "source": [
    "# Подбор числа нейронов в однослойном классификаторе\n"
   ]
  },
  {
   "cell_type": "markdown",
   "id": "7bece424",
   "metadata": {},
   "source": [
    "Т.к. графики  Error/Accuracy для train/test практически полностью совпадают, значит мы можем сказать, что данные  распределяются на тестовые и тренировочные одинаково.\n",
    "Переобучения нет, следовательно в моделе нет высоких весовых значений и она достаточно простая, чтобы уметь обобщаться.\n",
    "Недообучения так же нет, то есть модель достаточно сложная, чтобы решить поставленную задачу."
   ]
  },
  {
   "cell_type": "markdown",
   "id": "62ca64a5",
   "metadata": {},
   "source": [
    "# Подбор числа нейронов в двухслойном классификаторе"
   ]
  },
  {
   "cell_type": "markdown",
   "id": "ed93c391",
   "metadata": {},
   "source": [
    "Переобучения и недобучения также необнаружено.\n",
    "Из полученных данных можно заметить, что при значимом увеличении нейронов точность увеличивается, но совсем незначительно, поэтому для данной задачи можно использовать однослойную сеть из 48 нейронов и получать при этом хорошую точность."
   ]
  },
  {
   "cell_type": "markdown",
   "id": "844756ee",
   "metadata": {},
   "source": [
    "# Подбор параметра регуляризации"
   ]
  },
  {
   "cell_type": "markdown",
   "id": "3ec926fb",
   "metadata": {},
   "source": [
    "C ростом коэффициента регуляризации растет ошибка и падает accuracy, что говорит о том, что после обучения у модели не возникает больших значений весовых коэффициентов, а значит у модели нет переобучения."
   ]
  },
  {
   "cell_type": "code",
   "execution_count": null,
   "id": "6d00b522",
   "metadata": {},
   "outputs": [],
   "source": []
  }
 ],
 "metadata": {
  "kernelspec": {
   "display_name": "Python 3",
   "language": "python",
   "name": "python3"
  },
  "language_info": {
   "codemirror_mode": {
    "name": "ipython",
    "version": 3
   },
   "file_extension": ".py",
   "mimetype": "text/x-python",
   "name": "python",
   "nbconvert_exporter": "python",
   "pygments_lexer": "ipython3",
   "version": "3.8.8"
  }
 },
 "nbformat": 4,
 "nbformat_minor": 5
}
